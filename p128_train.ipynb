{
 "cells": [
  {
   "cell_type": "code",
   "execution_count": 1,
   "metadata": {},
   "outputs": [
    {
     "name": "stderr",
     "output_type": "stream",
     "text": [
      "Using TensorFlow backend.\n"
     ]
    }
   ],
   "source": [
    "from game2048.game import Game\n",
    "from game2048.displays import Display, IPythonDisplay\n",
    "from game2048.agents import Agent, RandomAgent, ExpectiMaxAgent\n",
    "import json\n",
    "import numpy as np\n",
    "import random,math\n",
    "import keras\n",
    "from keras.models import Sequential,load_model,model_from_json,Input,Model\n",
    "from keras.optimizers import SGD,RMSprop\n",
    "from keras.layers import SimpleRNN,BatchNormalization,Dense, Dropout, Flatten, MaxPooling3D, MaxPooling2D ,Activation ,Concatenate ,Conv3D,Conv2D,concatenate\n",
    "from keras.utils import to_categorical\n",
    "from keras.utils import np_utils\n",
    "from keras import backend as K"
   ]
  },
  {
   "cell_type": "code",
   "execution_count": null,
   "metadata": {},
   "outputs": [],
   "source": [
    "display = IPythonDisplay()\n",
    "model = Sequential()\n",
    "Filters=128\n",
    "inputs=Input((4,4,8))\n",
    "conv=inputs\n",
    "conv1=Conv2D(Filters,kernel_size=(4,1),kernel_initializer='he_uniform',padding='Same')(conv)\n",
    "\n",
    "conv2=Conv2D(Filters,kernel_size=(1,4),kernel_initializer='he_uniform',padding='Same')(conv)\n",
    "\n",
    "conv3=Conv2D(Filters,kernel_size=(1,1),kernel_initializer='he_uniform',padding='Same')(conv)\n",
    "\n",
    "conv4=Conv2D(Filters,kernel_size=(2,2),kernel_initializer='he_uniform',padding='Same')(conv)\n",
    "\n",
    "conv5=Conv2D(Filters,kernel_size=(3,3),kernel_initializer='he_uniform',padding='Same')(conv)\n",
    "\n",
    "conv6=Conv2D(Filters,kernel_size=(4,4),kernel_initializer='he_uniform',padding='Same')(conv)\n",
    "\n",
    "hidden=concatenate([Flatten()(conv1),Flatten()(conv2),Flatten()(conv3),Flatten()(conv4),Flatten()(conv5),Flatten()(conv6)])\n",
    "x=BatchNormalization()(hidden)\n",
    "x=Activation('relu')(hidden)\n",
    "x=Dense(512,kernel_initializer='he_uniform')(x)\n",
    "x=BatchNormalization()(x)\n",
    "x=Activation('relu')(x)\n",
    "x=Dropout(0.2)(x)\n",
    "x=Dense(128,kernel_initializer='he_uniform')(x)\n",
    "x=BatchNormalization()(x)\n",
    "x=Activation('relu')(x)\n",
    "x=Dropout(0.2)(x)\n",
    "\n",
    "outputs=Dense(4,activation='softmax')(x)\n",
    "model=Model(inputs,outputs)\n",
    "model.summary()\n",
    "model.compile(loss='categorical_crossentropy', optimizer=RMSprop(lr = 0.001, decay=0.0),metrics=['accuracy'])"
   ]
  },
  {
   "cell_type": "code",
   "execution_count": 39,
   "metadata": {},
   "outputs": [
    {
     "name": "stdout",
     "output_type": "stream",
     "text": [
      "1505 1506\n",
      "Epoch 1/35\n",
      "128057/128057 [==============================] - 78s 609us/step - loss: 1.1333 - acc: 0.4479\n",
      "Epoch 2/35\n",
      "128057/128057 [==============================] - 76s 592us/step - loss: 0.9956 - acc: 0.5346\n",
      "Epoch 3/35\n",
      "128057/128057 [==============================] - 76s 592us/step - loss: 0.8857 - acc: 0.5980\n",
      "Epoch 4/35\n",
      "128057/128057 [==============================] - 76s 590us/step - loss: 0.8163 - acc: 0.6324\n",
      "Epoch 5/35\n",
      "128057/128057 [==============================] - 75s 589us/step - loss: 0.7646 - acc: 0.6559\n",
      "Epoch 6/35\n",
      "110080/128057 [========================>.....] - ETA: 10s - loss: 0.7182 - acc: 0.6790"
     ]
    },
    {
     "ename": "KeyboardInterrupt",
     "evalue": "",
     "output_type": "error",
     "traceback": [
      "\u001b[0;31m---------------------------------------------------------------------------\u001b[0m",
      "\u001b[0;31mKeyboardInterrupt\u001b[0m                         Traceback (most recent call last)",
      "\u001b[0;32m<ipython-input-39-7d16566336a3>\u001b[0m in \u001b[0;36m<module>\u001b[0;34m()\u001b[0m\n\u001b[1;32m     42\u001b[0m     \u001b[0mx_train\u001b[0m\u001b[0;34m=\u001b[0m\u001b[0mto_categorical\u001b[0m\u001b[0;34m(\u001b[0m\u001b[0mx_train\u001b[0m\u001b[0;34m,\u001b[0m\u001b[0;36m7\u001b[0m\u001b[0;34m)\u001b[0m\u001b[0;34m\u001b[0m\u001b[0m\n\u001b[1;32m     43\u001b[0m     \u001b[0my_train\u001b[0m\u001b[0;34m=\u001b[0m\u001b[0mto_categorical\u001b[0m\u001b[0;34m(\u001b[0m\u001b[0my_train\u001b[0m\u001b[0;34m)\u001b[0m\u001b[0;34m\u001b[0m\u001b[0m\n\u001b[0;32m---> 44\u001b[0;31m     \u001b[0mmodel\u001b[0m\u001b[0;34m.\u001b[0m\u001b[0mfit\u001b[0m\u001b[0;34m(\u001b[0m\u001b[0mx\u001b[0m\u001b[0;34m=\u001b[0m\u001b[0mx_train\u001b[0m\u001b[0;34m,\u001b[0m\u001b[0my\u001b[0m\u001b[0;34m=\u001b[0m\u001b[0my_train\u001b[0m\u001b[0;34m,\u001b[0m\u001b[0mepochs\u001b[0m\u001b[0;34m=\u001b[0m\u001b[0;36m35\u001b[0m\u001b[0;34m,\u001b[0m\u001b[0mbatch_size\u001b[0m\u001b[0;34m=\u001b[0m\u001b[0;36m128\u001b[0m\u001b[0;34m,\u001b[0m\u001b[0mverbose\u001b[0m\u001b[0;34m=\u001b[0m\u001b[0;36m1\u001b[0m\u001b[0;34m,\u001b[0m\u001b[0mshuffle\u001b[0m\u001b[0;34m=\u001b[0m\u001b[0;32mTrue\u001b[0m\u001b[0;34m)\u001b[0m\u001b[0;34m\u001b[0m\u001b[0m\n\u001b[0m\u001b[1;32m     45\u001b[0m     \u001b[0mmodel\u001b[0m\u001b[0;34m.\u001b[0m\u001b[0msave\u001b[0m\u001b[0;34m(\u001b[0m\u001b[0;34m'2048_128.h5'\u001b[0m\u001b[0;34m)\u001b[0m\u001b[0;34m\u001b[0m\u001b[0m\n",
      "\u001b[0;32m~/anaconda3/envs/tensorflow_p36/lib/python3.6/site-packages/keras/engine/training.py\u001b[0m in \u001b[0;36mfit\u001b[0;34m(self, x, y, batch_size, epochs, verbose, callbacks, validation_split, validation_data, shuffle, class_weight, sample_weight, initial_epoch, steps_per_epoch, validation_steps, **kwargs)\u001b[0m\n\u001b[1;32m   1037\u001b[0m                                         \u001b[0minitial_epoch\u001b[0m\u001b[0;34m=\u001b[0m\u001b[0minitial_epoch\u001b[0m\u001b[0;34m,\u001b[0m\u001b[0;34m\u001b[0m\u001b[0m\n\u001b[1;32m   1038\u001b[0m                                         \u001b[0msteps_per_epoch\u001b[0m\u001b[0;34m=\u001b[0m\u001b[0msteps_per_epoch\u001b[0m\u001b[0;34m,\u001b[0m\u001b[0;34m\u001b[0m\u001b[0m\n\u001b[0;32m-> 1039\u001b[0;31m                                         validation_steps=validation_steps)\n\u001b[0m\u001b[1;32m   1040\u001b[0m \u001b[0;34m\u001b[0m\u001b[0m\n\u001b[1;32m   1041\u001b[0m     def evaluate(self, x=None, y=None,\n",
      "\u001b[0;32m~/anaconda3/envs/tensorflow_p36/lib/python3.6/site-packages/keras/engine/training_arrays.py\u001b[0m in \u001b[0;36mfit_loop\u001b[0;34m(model, f, ins, out_labels, batch_size, epochs, verbose, callbacks, val_f, val_ins, shuffle, callback_metrics, initial_epoch, steps_per_epoch, validation_steps)\u001b[0m\n\u001b[1;32m    197\u001b[0m                     \u001b[0mins_batch\u001b[0m\u001b[0;34m[\u001b[0m\u001b[0mi\u001b[0m\u001b[0;34m]\u001b[0m \u001b[0;34m=\u001b[0m \u001b[0mins_batch\u001b[0m\u001b[0;34m[\u001b[0m\u001b[0mi\u001b[0m\u001b[0;34m]\u001b[0m\u001b[0;34m.\u001b[0m\u001b[0mtoarray\u001b[0m\u001b[0;34m(\u001b[0m\u001b[0;34m)\u001b[0m\u001b[0;34m\u001b[0m\u001b[0m\n\u001b[1;32m    198\u001b[0m \u001b[0;34m\u001b[0m\u001b[0m\n\u001b[0;32m--> 199\u001b[0;31m                 \u001b[0mouts\u001b[0m \u001b[0;34m=\u001b[0m \u001b[0mf\u001b[0m\u001b[0;34m(\u001b[0m\u001b[0mins_batch\u001b[0m\u001b[0;34m)\u001b[0m\u001b[0;34m\u001b[0m\u001b[0m\n\u001b[0m\u001b[1;32m    200\u001b[0m                 \u001b[0mouts\u001b[0m \u001b[0;34m=\u001b[0m \u001b[0mto_list\u001b[0m\u001b[0;34m(\u001b[0m\u001b[0mouts\u001b[0m\u001b[0;34m)\u001b[0m\u001b[0;34m\u001b[0m\u001b[0m\n\u001b[1;32m    201\u001b[0m                 \u001b[0;32mfor\u001b[0m \u001b[0ml\u001b[0m\u001b[0;34m,\u001b[0m \u001b[0mo\u001b[0m \u001b[0;32min\u001b[0m \u001b[0mzip\u001b[0m\u001b[0;34m(\u001b[0m\u001b[0mout_labels\u001b[0m\u001b[0;34m,\u001b[0m \u001b[0mouts\u001b[0m\u001b[0;34m)\u001b[0m\u001b[0;34m:\u001b[0m\u001b[0;34m\u001b[0m\u001b[0m\n",
      "\u001b[0;32m~/anaconda3/envs/tensorflow_p36/lib/python3.6/site-packages/keras/backend/tensorflow_backend.py\u001b[0m in \u001b[0;36m__call__\u001b[0;34m(self, inputs)\u001b[0m\n\u001b[1;32m   2713\u001b[0m                 \u001b[0;32mreturn\u001b[0m \u001b[0mself\u001b[0m\u001b[0;34m.\u001b[0m\u001b[0m_legacy_call\u001b[0m\u001b[0;34m(\u001b[0m\u001b[0minputs\u001b[0m\u001b[0;34m)\u001b[0m\u001b[0;34m\u001b[0m\u001b[0m\n\u001b[1;32m   2714\u001b[0m \u001b[0;34m\u001b[0m\u001b[0m\n\u001b[0;32m-> 2715\u001b[0;31m             \u001b[0;32mreturn\u001b[0m \u001b[0mself\u001b[0m\u001b[0;34m.\u001b[0m\u001b[0m_call\u001b[0m\u001b[0;34m(\u001b[0m\u001b[0minputs\u001b[0m\u001b[0;34m)\u001b[0m\u001b[0;34m\u001b[0m\u001b[0m\n\u001b[0m\u001b[1;32m   2716\u001b[0m         \u001b[0;32melse\u001b[0m\u001b[0;34m:\u001b[0m\u001b[0;34m\u001b[0m\u001b[0m\n\u001b[1;32m   2717\u001b[0m             \u001b[0;32mif\u001b[0m \u001b[0mpy_any\u001b[0m\u001b[0;34m(\u001b[0m\u001b[0mis_tensor\u001b[0m\u001b[0;34m(\u001b[0m\u001b[0mx\u001b[0m\u001b[0;34m)\u001b[0m \u001b[0;32mfor\u001b[0m \u001b[0mx\u001b[0m \u001b[0;32min\u001b[0m \u001b[0minputs\u001b[0m\u001b[0;34m)\u001b[0m\u001b[0;34m:\u001b[0m\u001b[0;34m\u001b[0m\u001b[0m\n",
      "\u001b[0;32m~/anaconda3/envs/tensorflow_p36/lib/python3.6/site-packages/keras/backend/tensorflow_backend.py\u001b[0m in \u001b[0;36m_call\u001b[0;34m(self, inputs)\u001b[0m\n\u001b[1;32m   2673\u001b[0m             \u001b[0mfetched\u001b[0m \u001b[0;34m=\u001b[0m \u001b[0mself\u001b[0m\u001b[0;34m.\u001b[0m\u001b[0m_callable_fn\u001b[0m\u001b[0;34m(\u001b[0m\u001b[0;34m*\u001b[0m\u001b[0marray_vals\u001b[0m\u001b[0;34m,\u001b[0m \u001b[0mrun_metadata\u001b[0m\u001b[0;34m=\u001b[0m\u001b[0mself\u001b[0m\u001b[0;34m.\u001b[0m\u001b[0mrun_metadata\u001b[0m\u001b[0;34m)\u001b[0m\u001b[0;34m\u001b[0m\u001b[0m\n\u001b[1;32m   2674\u001b[0m         \u001b[0;32melse\u001b[0m\u001b[0;34m:\u001b[0m\u001b[0;34m\u001b[0m\u001b[0m\n\u001b[0;32m-> 2675\u001b[0;31m             \u001b[0mfetched\u001b[0m \u001b[0;34m=\u001b[0m \u001b[0mself\u001b[0m\u001b[0;34m.\u001b[0m\u001b[0m_callable_fn\u001b[0m\u001b[0;34m(\u001b[0m\u001b[0;34m*\u001b[0m\u001b[0marray_vals\u001b[0m\u001b[0;34m)\u001b[0m\u001b[0;34m\u001b[0m\u001b[0m\n\u001b[0m\u001b[1;32m   2676\u001b[0m         \u001b[0;32mreturn\u001b[0m \u001b[0mfetched\u001b[0m\u001b[0;34m[\u001b[0m\u001b[0;34m:\u001b[0m\u001b[0mlen\u001b[0m\u001b[0;34m(\u001b[0m\u001b[0mself\u001b[0m\u001b[0;34m.\u001b[0m\u001b[0moutputs\u001b[0m\u001b[0;34m)\u001b[0m\u001b[0;34m]\u001b[0m\u001b[0;34m\u001b[0m\u001b[0m\n\u001b[1;32m   2677\u001b[0m \u001b[0;34m\u001b[0m\u001b[0m\n",
      "\u001b[0;32m~/anaconda3/envs/tensorflow_p36/lib/python3.6/site-packages/tensorflow/python/client/session.py\u001b[0m in \u001b[0;36m__call__\u001b[0;34m(self, *args, **kwargs)\u001b[0m\n\u001b[1;32m   1437\u001b[0m           ret = tf_session.TF_SessionRunCallable(\n\u001b[1;32m   1438\u001b[0m               \u001b[0mself\u001b[0m\u001b[0;34m.\u001b[0m\u001b[0m_session\u001b[0m\u001b[0;34m.\u001b[0m\u001b[0m_session\u001b[0m\u001b[0;34m,\u001b[0m \u001b[0mself\u001b[0m\u001b[0;34m.\u001b[0m\u001b[0m_handle\u001b[0m\u001b[0;34m,\u001b[0m \u001b[0margs\u001b[0m\u001b[0;34m,\u001b[0m \u001b[0mstatus\u001b[0m\u001b[0;34m,\u001b[0m\u001b[0;34m\u001b[0m\u001b[0m\n\u001b[0;32m-> 1439\u001b[0;31m               run_metadata_ptr)\n\u001b[0m\u001b[1;32m   1440\u001b[0m         \u001b[0;32mif\u001b[0m \u001b[0mrun_metadata\u001b[0m\u001b[0;34m:\u001b[0m\u001b[0;34m\u001b[0m\u001b[0m\n\u001b[1;32m   1441\u001b[0m           \u001b[0mproto_data\u001b[0m \u001b[0;34m=\u001b[0m \u001b[0mtf_session\u001b[0m\u001b[0;34m.\u001b[0m\u001b[0mTF_GetBuffer\u001b[0m\u001b[0;34m(\u001b[0m\u001b[0mrun_metadata_ptr\u001b[0m\u001b[0;34m)\u001b[0m\u001b[0;34m\u001b[0m\u001b[0m\n",
      "\u001b[0;31mKeyboardInterrupt\u001b[0m: "
     ]
    }
   ],
   "source": [
    "if 1:\n",
    "    print(n,m)\n",
    "    n=0\n",
    "    m=0\n",
    "    x_train=[]\n",
    "    y_train=[]\n",
    "    item=128000\n",
    "    \n",
    "    while len(x_train)<item:\n",
    "        game = Game(4, score_to_win=2048, random=False)\n",
    "        agent = ExpectiMaxAgent(game, display=display)\n",
    "        m=m+1\n",
    "        q=0\n",
    "        \n",
    "        while game.end==False:\n",
    "            tmp=[]\n",
    "            tmp=(game.board)\n",
    "            tmp[tmp==0]=1\n",
    "            tmp=np.log2(tmp)\n",
    "            choice=move(model,tmp)\n",
    "       \n",
    "            tmp=tmp.tolist()\n",
    "\n",
    "            \n",
    "            x_train.append(tmp)\n",
    "            y_train.append(agent.step())\n",
    "          \n",
    "       \n",
    "            game.move(agent.step())\n",
    "            \n",
    "                \n",
    "                \n",
    "            if np.max(game.board)==128:\n",
    "                n=n+1\n",
    "                break\n",
    "            if game.end!=0:\n",
    "                break\n",
    "    x_train=np.array(x_train,dtype=float)\n",
    "    y_train=np.array(y_train,dtype=float)\n",
    "    p = np.random.permutation(range(len(x_train)))\n",
    "    x_train,y_train = x_train[p],y_train[p]\n",
    "    x_train=x_train.astype('float32')\n",
    "    x_train=to_categorical(x_train,7)\n",
    "    y_train=to_categorical(y_train)\n",
    "    "
   ]
  },
  {
   "cell_type": "code",
   "execution_count": 41,
   "metadata": {},
   "outputs": [],
   "source": [
    "np.save('x_128.npy',x_train)\n",
    "np.save('y_128.npy',y_train)"
   ]
  },
  {
   "cell_type": "code",
   "execution_count": 46,
   "metadata": {},
   "outputs": [
    {
     "name": "stdout",
     "output_type": "stream",
     "text": [
      "Epoch 1/20\n",
      "128057/128057 [==============================] - 47s 366us/step - loss: 1.1385 - acc: 0.4447\n",
      "Epoch 2/20\n",
      "128057/128057 [==============================] - 44s 344us/step - loss: 1.0141 - acc: 0.5197\n",
      "Epoch 3/20\n",
      "128057/128057 [==============================] - 44s 344us/step - loss: 0.9111 - acc: 0.5846\n",
      "Epoch 4/20\n",
      "128057/128057 [==============================] - 44s 344us/step - loss: 0.8295 - acc: 0.6245\n",
      "Epoch 5/20\n",
      "128057/128057 [==============================] - 44s 344us/step - loss: 0.7685 - acc: 0.6543\n",
      "Epoch 6/20\n",
      "128057/128057 [==============================] - 44s 344us/step - loss: 0.7168 - acc: 0.6789\n",
      "Epoch 7/20\n",
      "128057/128057 [==============================] - 44s 344us/step - loss: 0.6689 - acc: 0.7029\n",
      "Epoch 8/20\n",
      "128057/128057 [==============================] - 44s 344us/step - loss: 0.6194 - acc: 0.7273\n",
      "Epoch 9/20\n",
      "128057/128057 [==============================] - 44s 345us/step - loss: 0.5710 - acc: 0.7497\n",
      "Epoch 10/20\n",
      "128057/128057 [==============================] - 44s 344us/step - loss: 0.5219 - acc: 0.7729\n",
      "Epoch 11/20\n",
      "128057/128057 [==============================] - 44s 345us/step - loss: 0.4766 - acc: 0.7972\n",
      "Epoch 12/20\n",
      "128057/128057 [==============================] - 44s 344us/step - loss: 0.4290 - acc: 0.8192\n",
      "Epoch 13/20\n",
      "128057/128057 [==============================] - 44s 344us/step - loss: 0.3834 - acc: 0.8422\n",
      "Epoch 14/20\n",
      "128057/128057 [==============================] - 44s 344us/step - loss: 0.3442 - acc: 0.8590\n",
      "Epoch 15/20\n",
      "128057/128057 [==============================] - 44s 344us/step - loss: 0.3054 - acc: 0.8773\n",
      "Epoch 16/20\n",
      "128057/128057 [==============================] - 44s 343us/step - loss: 0.2744 - acc: 0.8908\n",
      "Epoch 17/20\n",
      "128057/128057 [==============================] - 44s 344us/step - loss: 0.2465 - acc: 0.9028\n",
      "Epoch 18/20\n",
      "128057/128057 [==============================] - 44s 343us/step - loss: 0.2200 - acc: 0.9157\n",
      "Epoch 19/20\n",
      "128057/128057 [==============================] - 44s 343us/step - loss: 0.1996 - acc: 0.9244\n",
      "Epoch 20/20\n",
      "128057/128057 [==============================] - 44s 344us/step - loss: 0.1815 - acc: 0.9317\n"
     ]
    }
   ],
   "source": [
    "model.fit(x=x_train,y=y_train,epochs=40,batch_size=128,verbose=1,shuffle=True)\n",
    "model.save('2048_128.h5')"
   ]
  },
  {
   "cell_type": "code",
   "execution_count": null,
   "metadata": {},
   "outputs": [
    {
     "name": "stdout",
     "output_type": "stream",
     "text": [
      "0 0\n",
      "Epoch 1/1\n",
      "12862/12862 [==============================] - 5s 370us/step - loss: 1.0480 - acc: 0.5318\n",
      "173 193\n",
      "Epoch 1/1\n",
      "12851/12851 [==============================] - 3s 270us/step - loss: 1.0366 - acc: 0.5309\n",
      "153 187\n"
     ]
    }
   ],
   "source": [
    "model=load_model('2048_128.h5')\n",
    "def move(model,tm):\n",
    "    \n",
    "    tm=np.array(tm,dtype=float)\n",
    "    tmp0=tm.astype('float32')\n",
    "       \n",
    "    tmp=tmp0\n",
    "        \n",
    "        \n",
    "    tmp=to_categorical(tmp0,7)\n",
    "        \n",
    "    tmp = tmp.reshape(1,4,4,7)\n",
    "    tmp_list=[]\n",
    "    tmp_list.append(tmp)\n",
    "    tmp_list=max(model.predict(tmp_list,batch_size=128))\n",
    "    tmp_pre=tmp_list.tolist()\n",
    "    direction=(tmp_pre.index(max(tmp_pre)))\n",
    "    return direction\n",
    "n=0\n",
    "m=0\n",
    "while 1:\n",
    "    print(n,m)\n",
    "    n=0\n",
    "    m=0\n",
    "    x_train=[]\n",
    "    y_train=[]\n",
    "    item=12800\n",
    "    \n",
    "    while len(x_train)<item:\n",
    "        game = Game(4, score_to_win=2048, random=False)\n",
    "        agent = ExpectiMaxAgent(game, display=display)\n",
    "        m=m+1\n",
    "        q=0\n",
    "        \n",
    "        while game.end==False:\n",
    "            tmp=[]\n",
    "            tmp=(game.board)\n",
    "            tmp[tmp==0]=1\n",
    "            tmp=np.log2(tmp)\n",
    "            choice=move(model,tmp)\n",
    "       \n",
    "            tmp=tmp.tolist()\n",
    "\n",
    "            \n",
    "            x_train.append(tmp)\n",
    "            y_train.append(agent.step())\n",
    "          \n",
    "       \n",
    "            game.move(choice)\n",
    "            \n",
    "                \n",
    "                \n",
    "            if np.max(game.board)==128:\n",
    "                n=n+1\n",
    "                break\n",
    "            if game.end!=0:\n",
    "                break\n",
    "    x_train=np.array(x_train,dtype=float)\n",
    "    y_train=np.array(y_train,dtype=float)\n",
    "    p = np.random.permutation(range(len(x_train)))\n",
    "    x_train,y_train = x_train[p],y_train[p]\n",
    "    x_train=x_train.astype('float32')\n",
    "    x_train=to_categorical(x_train,7)\n",
    "    y_train=to_categorical(y_train)\n",
    "    model.fit(x=x_train,y=y_train,epochs=1,batch_size=512,verbose=1,shuffle=True)\n",
    "    \n",
    "\n",
    "    model.save('2048_128.h5')"
   ]
  },
  {
   "cell_type": "code",
   "execution_count": 1,
   "metadata": {
    "scrolled": true
   },
   "outputs": [
    {
     "name": "stdout",
     "output_type": "stream",
     "text": [
      "top - 13:18:20 up  4:28,  2 users,  load average: 2.96, 2.90, 2.82\r\n",
      "Tasks: 150 total,   1 running, 149 sleeping,   0 stopped,   0 zombie\r\n",
      "%Cpu(s): 37.6 us,  2.2 sy,  0.0 ni, 58.8 id,  1.0 wa,  0.0 hi,  0.0 si,  0.3 st\r\n",
      "KiB Mem : 62879976 total, 59035352 free,   660196 used,  3184428 buff/cache\r\n",
      "KiB Swap:        0 total,        0 free,        0 used. 61647164 avail Mem \r\n",
      "\r\n",
      "  PID USER      PR  NI    VIRT    RES    SHR S  %CPU %MEM     TIME+ COMMAND\r\n",
      "26817 ubuntu    20   0 2917852 369672 108996 S 225.0  0.6 192:29.04 /home/ubun+\r\n"
     ]
    }
   ],
   "source": [
    "! top -bn 1 -i -c"
   ]
  },
  {
   "cell_type": "code",
   "execution_count": null,
   "metadata": {},
   "outputs": [],
   "source": []
  }
 ],
 "metadata": {
  "kernelspec": {
   "display_name": "Environment (conda_tensorflow_p36)",
   "language": "python",
   "name": "conda_tensorflow_p36"
  },
  "language_info": {
   "codemirror_mode": {
    "name": "ipython",
    "version": 3
   },
   "file_extension": ".py",
   "mimetype": "text/x-python",
   "name": "python",
   "nbconvert_exporter": "python",
   "pygments_lexer": "ipython3",
   "version": "3.6.5"
  }
 },
 "nbformat": 4,
 "nbformat_minor": 2
}
